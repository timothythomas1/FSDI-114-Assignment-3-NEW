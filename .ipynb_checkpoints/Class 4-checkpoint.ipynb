{
 "cells": [
  {
   "cell_type": "code",
   "execution_count": 2,
   "id": "77712075",
   "metadata": {},
   "outputs": [],
   "source": [
    "class Node:\n",
    "    def __init__(self, data):\n",
    "        self.value = data\n",
    "        self.next = None\n",
    "        \n",
    "class SinglyLinkedList:\n",
    "    def __init__(self):\n",
    "        self.head = None\n",
    "    \n",
    "    def append(self, value):\n",
    "        if not self.head:\n",
    "            self.head = Node(value)\n",
    "        else:\n",
    "            current = self.head\n",
    "            while current.next: # While current.next != None\n",
    "                current = current.next\n",
    "            current.next = Node(value) # \n",
    "\n",
    "    def insert(self, index, value):\n",
    "            if not self.head:           # The case where there is no head (List is empty)\n",
    "                self.head = Node(value)    \n",
    "                \n",
    "            elif index <= 0:            # If there is a head and we want to insert a new Node into the head's position\n",
    "                new_node = Node(value)\n",
    "                new_node.next = self.head\n",
    "                self.head = new_node\n",
    "                \n",
    "            else: # If there is a head and we want to insert anywhere else other than position 0\n",
    "                prev = None # Temp variable. \n",
    "                current = self.head\n",
    "                counter = 0\n",
    "                while current.next and counter != index:  # While loop is exited either by having no next node\n",
    "                    prev = current                        # While loop is exited when we have reached our index\n",
    "                    current = current.next                \n",
    "                    counter += 1\n",
    "                if counter != index:                     # Now check if the index caused the while exit. Appending Node to the tail.             \n",
    "                    current.next = Node(value)\n",
    "                else:                                    # This means that the index was reached. Appending in between Nodes. \n",
    "                    new_node = Node(value)\n",
    "                    prev.next = new_node\n",
    "                    new_node.next = current\n",
    "\n",
    "    def add_all(self):\n",
    "        total = 0\n",
    "        current = self.head\n",
    "        while current:\n",
    "            total += current.value\n",
    "            current = current.next\n",
    "        return total\n",
    "\n",
    "#     Insert Pseudocode:\n",
    "\n",
    "#     case 1: If SLL has no head.\n",
    "#          a. Create a new Node with a value, next, and index=0 attribute.\n",
    "#                 self.head = Node(value, index)\n",
    "# \n",
    "#     case 2: If SLL has head.\n",
    "#             current = self.head\n",
    "#             count = current.index\n",
    "#             Enter a while loop. \n",
    "#                  While there is something in current.next\n",
    "#                     add +1 to the count\n",
    "#                     current = current.next\n",
    "#                     If count == index-1:\n",
    "#                        store current node into temp variable\n",
    "#                        storecurrent.next = Node(value) #\n",
    "#                        \n",
    "#                  \n",
    "                    \n",
    "#          a. current = 0\n",
    "#          b. If there is a head:\n",
    "#                 current = \n",
    "# store index in current. \n",
    "#        while there \n",
    "        \n",
    "    \n",
    "    \n",
    "        # case 1: index = 0\n",
    "        #       We want to replace the head node.\n",
    "        # case 2: index is anywhere between the head and the tail of our list\n",
    "#                We need to traverse until we find the index, but then create new node before the index\n",
    "        # case 3: index = n where n > size of our list, just use the append method\n",
    "        #       Append a new node with the target value to the end of our list.\n",
    "        \n",
    "    \n",
    "\n",
    "    "
   ]
  },
  {
   "cell_type": "code",
   "execution_count": 6,
   "id": "830403df",
   "metadata": {},
   "outputs": [
    {
     "name": "stdout",
     "output_type": "stream",
     "text": [
      "[300]\n"
     ]
    }
   ],
   "source": [
    "mylist = []\n",
    "\n",
    "mylist.insert(100, 300)\n",
    "\n",
    "print(mylist)"
   ]
  },
  {
   "cell_type": "code",
   "execution_count": 7,
   "id": "0bff239e",
   "metadata": {},
   "outputs": [
    {
     "name": "stdout",
     "output_type": "stream",
     "text": [
      "5050\n"
     ]
    }
   ],
   "source": [
    "sll = SinglyLinkedList()\n",
    "\n",
    "for number in range(101):\n",
    "    sll.append(number)\n",
    "    \n",
    "print(sll.add_all())"
   ]
  },
  {
   "cell_type": "code",
   "execution_count": 23,
   "id": "037c49c3",
   "metadata": {},
   "outputs": [],
   "source": [
    "class DLNode: # Node class for Doubly Linked List\n",
    "    def __init_(self, data):\n",
    "        self.data = data\n",
    "        self.prev = None\n",
    "        self.next = None\n",
    "        \n",
    "class DoublyLinkedList:\n",
    "    def __init__(self):\n",
    "        self.head = None\n",
    "        \n",
    "    def append(self, value):\n",
    "        if self.head is None:              # If the head is empty.\n",
    "            self.head = DLNode(value)   # If there exists a head.\n",
    "        else:\n",
    "            current = self.head \n",
    "            while current.next: # Looking to the right\n",
    "                current = current.next\n",
    "            new_node = DLNode(value)\n",
    "            current.next = new_node\n",
    "            new_node.prev = current\n",
    "\n",
    "    def remove(self, value):\n",
    "        found = False\n",
    "        if self.head:\n",
    "            current = self.head\n",
    "            while current and current.data != value:\n",
    "                current = current.next\n",
    "            if curent == self.head:\n",
    "                self.head = None\n",
    "            elif current.data == value: # Removing the head node\n",
    "                found = True          # \n",
    "                previous_node = current.prev # None\n",
    "                next_node = current.next     # None\n",
    "                previous_node.next = next_node\n",
    "                next_node.prev = previous_node\n",
    "        if not found:\n",
    "            raise ValueError(\"Value not found\")\n",
    "        \n",
    "    def __str__(self): #Double underscore method ('dunder method')\n",
    "        out_str = \"[\"\n",
    "        if self.head:\n",
    "            pointer = self.head\n",
    "            out_str += \"%s\" % pointer.item\n",
    "            while pointer:                    # While current is NOT None.\n",
    "                pointer = pointer.next\n",
    "                if pointer:\n",
    "                    out_str += \", %s\" % pointer.item\n",
    "        out_str += \"]\"\n",
    "        return out_str"
   ]
  },
  {
   "cell_type": "code",
   "execution_count": 24,
   "id": "147a9dd7",
   "metadata": {},
   "outputs": [
    {
     "ename": "TypeError",
     "evalue": "DLNode() takes no arguments",
     "output_type": "error",
     "traceback": [
      "\u001b[0;31m---------------------------------------------------------------------------\u001b[0m",
      "\u001b[0;31mTypeError\u001b[0m                                 Traceback (most recent call last)",
      "Input \u001b[0;32mIn [24]\u001b[0m, in \u001b[0;36m<cell line: 8>\u001b[0;34m()\u001b[0m\n\u001b[1;32m      5\u001b[0m         \u001b[38;5;28mprint\u001b[39m(\u001b[38;5;124mf\u001b[39m\u001b[38;5;124m'\u001b[39m\u001b[38;5;124mAdded \u001b[39m\u001b[38;5;132;01m{\u001b[39;00m\u001b[38;5;28mtype\u001b[39m(value)\u001b[38;5;132;01m}\u001b[39;00m\u001b[38;5;124m \u001b[39m\u001b[38;5;124m\"\u001b[39m\u001b[38;5;132;01m{\u001b[39;00mvalue\u001b[38;5;132;01m}\u001b[39;00m\u001b[38;5;124m\"\u001b[39m\u001b[38;5;124m to my SLL\u001b[39m\u001b[38;5;124m'\u001b[39m)\n\u001b[1;32m      6\u001b[0m         \u001b[38;5;28mprint\u001b[39m(newDLL,  \u001b[38;5;124m\"\u001b[39m\u001b[38;5;130;01m\\n\u001b[39;00m\u001b[38;5;124m\"\u001b[39m)\n\u001b[0;32m----> 8\u001b[0m \u001b[43mappend_helper\u001b[49m\u001b[43m(\u001b[49m\u001b[43m)\u001b[49m\n",
      "Input \u001b[0;32mIn [24]\u001b[0m, in \u001b[0;36mappend_helper\u001b[0;34m(mylist)\u001b[0m\n\u001b[1;32m      2\u001b[0m newDLL \u001b[38;5;241m=\u001b[39m DoublyLinkedList()\n\u001b[1;32m      3\u001b[0m \u001b[38;5;28;01mfor\u001b[39;00m value \u001b[38;5;129;01min\u001b[39;00m mylist:\n\u001b[0;32m----> 4\u001b[0m     \u001b[43mnewDLL\u001b[49m\u001b[38;5;241;43m.\u001b[39;49m\u001b[43mappend\u001b[49m\u001b[43m(\u001b[49m\u001b[43mvalue\u001b[49m\u001b[43m)\u001b[49m\n\u001b[1;32m      5\u001b[0m     \u001b[38;5;28mprint\u001b[39m(\u001b[38;5;124mf\u001b[39m\u001b[38;5;124m'\u001b[39m\u001b[38;5;124mAdded \u001b[39m\u001b[38;5;132;01m{\u001b[39;00m\u001b[38;5;28mtype\u001b[39m(value)\u001b[38;5;132;01m}\u001b[39;00m\u001b[38;5;124m \u001b[39m\u001b[38;5;124m\"\u001b[39m\u001b[38;5;132;01m{\u001b[39;00mvalue\u001b[38;5;132;01m}\u001b[39;00m\u001b[38;5;124m\"\u001b[39m\u001b[38;5;124m to my SLL\u001b[39m\u001b[38;5;124m'\u001b[39m)\n\u001b[1;32m      6\u001b[0m     \u001b[38;5;28mprint\u001b[39m(newDLL,  \u001b[38;5;124m\"\u001b[39m\u001b[38;5;130;01m\\n\u001b[39;00m\u001b[38;5;124m\"\u001b[39m)\n",
      "Input \u001b[0;32mIn [23]\u001b[0m, in \u001b[0;36mDoublyLinkedList.append\u001b[0;34m(self, value)\u001b[0m\n\u001b[1;32m     11\u001b[0m \u001b[38;5;28;01mdef\u001b[39;00m \u001b[38;5;21mappend\u001b[39m(\u001b[38;5;28mself\u001b[39m, value):\n\u001b[1;32m     12\u001b[0m     \u001b[38;5;28;01mif\u001b[39;00m \u001b[38;5;28mself\u001b[39m\u001b[38;5;241m.\u001b[39mhead \u001b[38;5;129;01mis\u001b[39;00m \u001b[38;5;28;01mNone\u001b[39;00m:              \u001b[38;5;66;03m# If the head is empty.\u001b[39;00m\n\u001b[0;32m---> 13\u001b[0m         \u001b[38;5;28mself\u001b[39m\u001b[38;5;241m.\u001b[39mhead \u001b[38;5;241m=\u001b[39m \u001b[43mDLNode\u001b[49m\u001b[43m(\u001b[49m\u001b[43mvalue\u001b[49m\u001b[43m)\u001b[49m   \u001b[38;5;66;03m# If there exists a head.\u001b[39;00m\n\u001b[1;32m     14\u001b[0m     \u001b[38;5;28;01melse\u001b[39;00m:\n\u001b[1;32m     15\u001b[0m         current \u001b[38;5;241m=\u001b[39m \u001b[38;5;28mself\u001b[39m\u001b[38;5;241m.\u001b[39mhead \n",
      "\u001b[0;31mTypeError\u001b[0m: DLNode() takes no arguments"
     ]
    }
   ],
   "source": [
    "    def append_helper(mylist=[1,\"op\",3.76,\"Hola!\",[],{}]):\n",
    "        newDLL = DoublyLinkedList()\n",
    "        for value in mylist:\n",
    "            newDLL.append(value)\n",
    "            print(f'Added {type(value)} \"{value}\" to my SLL')\n",
    "            print(newDLL,  \"\\n\")\n",
    "\n",
    "append_helper()\n"
   ]
  },
  {
   "cell_type": "code",
   "execution_count": null,
   "id": "31a7090f",
   "metadata": {},
   "outputs": [],
   "source": []
  }
 ],
 "metadata": {
  "kernelspec": {
   "display_name": "Python 3 (ipykernel)",
   "language": "python",
   "name": "python3"
  },
  "language_info": {
   "codemirror_mode": {
    "name": "ipython",
    "version": 3
   },
   "file_extension": ".py",
   "mimetype": "text/x-python",
   "name": "python",
   "nbconvert_exporter": "python",
   "pygments_lexer": "ipython3",
   "version": "3.9.12"
  }
 },
 "nbformat": 4,
 "nbformat_minor": 5
}
